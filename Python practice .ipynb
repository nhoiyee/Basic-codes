{
 "cells": [
  {
   "cell_type": "markdown",
   "metadata": {},
   "source": [
    "# Python Practice "
   ]
  },
  {
   "cell_type": "code",
   "execution_count": 4,
   "metadata": {},
   "outputs": [
    {
     "name": "stdout",
     "output_type": "stream",
     "text": [
      "Enter a number: 5\n",
      "The entered integer is NOT a  PRIME!\n"
     ]
    }
   ],
   "source": [
    "#Prime number\n",
    "x= int(input(\"Enter a number: \"))\n",
    "temp = 0\n",
    "for i in range(2,x):\n",
    "    if (x% i == 0):\n",
    "        print(\"The entered integer is NOT a  PRIME!\")\n",
    "        temp+= 1 \n",
    "        break\n",
    "if (temp==0):\n",
    "    print(\"The entered integer is NOT a  PRIME!\")"
   ]
  },
  {
   "cell_type": "code",
   "execution_count": 5,
   "metadata": {},
   "outputs": [
    {
     "name": "stdout",
     "output_type": "stream",
     "text": [
      "Enter a number: 6\n",
      "The entered integer is a Palindrome!\n"
     ]
    }
   ],
   "source": [
    "#Palindrome String\n",
    "string = input(\"Enter a number: \")\n",
    "lst= ''\n",
    "for i in range(1, len(string)+1):\n",
    "    lst += string [-1]\n",
    "if (lst == string):\n",
    "    print(\"The entered integer is a Palindrome!\")\n",
    "else:\n",
    "    print(\"The entered integer is NOT a  Palindrome!\")\n"
   ]
  },
  {
   "cell_type": "code",
   "execution_count": 6,
   "metadata": {},
   "outputs": [
    {
     "name": "stdout",
     "output_type": "stream",
     "text": [
      "Enter an integer: 7\n",
      "      1\n",
      "     22\n",
      "    333\n",
      "   4444\n",
      "  55555\n",
      " 666666\n",
      "7777777\n"
     ]
    }
   ],
   "source": [
    "#Pyramid sequence\n",
    "n = int(input(\"Enter an integer: \"))\n",
    "for i in range(1, n+1):\n",
    "    for k in range(n, i, -1):\n",
    "        print (\"\", end = ' ')\n",
    "    for j in range(1, i+1):\n",
    "        print(i, end = '')\n",
    "    print ()\n"
   ]
  },
  {
   "cell_type": "code",
   "execution_count": 7,
   "metadata": {},
   "outputs": [
    {
     "name": "stdout",
     "output_type": "stream",
     "text": [
      "Enter a value to generate Fibonacci sequence: 8\n",
      "[0, 1, 1, 2, 3, 5, 8, 13]\n"
     ]
    }
   ],
   "source": [
    "#Fibonacci series\n",
    "n= int(input(\"Enter a value to generate Fibonacci sequence: \") )\n",
    "lst= [0,1]\n",
    "for i in range (n-2):\n",
    "    lst.append(lst[-1] + lst [-2])\n",
    "print (lst)\n"
   ]
  },
  {
   "cell_type": "code",
   "execution_count": 9,
   "metadata": {},
   "outputs": [
    {
     "data": {
      "text/plain": [
       "array([[1, 2, 3],\n",
       "       [4, 5, 6],\n",
       "       [7, 8, 9]])"
      ]
     },
     "execution_count": 9,
     "metadata": {},
     "output_type": "execute_result"
    }
   ],
   "source": [
    "import numpy as np\n",
    "lst= [1,2,3,4,5]\n",
    "A = np.array([1,2,3,4,5])\n",
    "np.arange(0,10,2)\n",
    "np.arange(2,30,5)\n",
    "A.shape\n",
    "A.reshape(1,5)\n",
    "B = [1,2,3,4,5,6,7,8,9]\n",
    "B = np.array([1,2,3,4,5,6,7,8,9])\n",
    "B.reshape(3,3)\n"
   ]
  },
  {
   "cell_type": "code",
   "execution_count": 10,
   "metadata": {},
   "outputs": [
    {
     "data": {
      "text/plain": [
       "array([[1., 0., 0.],\n",
       "       [0., 1., 0.],\n",
       "       [0., 0., 1.]])"
      ]
     },
     "execution_count": 10,
     "metadata": {},
     "output_type": "execute_result"
    }
   ],
   "source": [
    "Z=np.zeros((4,3))\n",
    "Z\n",
    "np.eye(3)\n"
   ]
  },
  {
   "cell_type": "code",
   "execution_count": 11,
   "metadata": {},
   "outputs": [],
   "source": [
    "#dot product of 2 matrices\n",
    "I = np.eye(3)\n",
    "I\n",
    "D= np. arange(1,10).reshape(3,3)\n",
    "D\n",
    "M= np.dot(D, I)\n"
   ]
  },
  {
   "cell_type": "code",
   "execution_count": 12,
   "metadata": {},
   "outputs": [
    {
     "data": {
      "text/plain": [
       "array([ 6., 15., 24.])"
      ]
     },
     "execution_count": 12,
     "metadata": {},
     "output_type": "execute_result"
    }
   ],
   "source": [
    "#add elements\n",
    "np.sum(M)\n",
    "#add along the rows\n",
    "np.sum(M, axis= 1)\n"
   ]
  },
  {
   "cell_type": "code",
   "execution_count": null,
   "metadata": {},
   "outputs": [],
   "source": [
    "\n"
   ]
  }
 ],
 "metadata": {
  "kernelspec": {
   "display_name": "Python 3",
   "language": "python",
   "name": "python3"
  },
  "language_info": {
   "codemirror_mode": {
    "name": "ipython",
    "version": 3
   },
   "file_extension": ".py",
   "mimetype": "text/x-python",
   "name": "python",
   "nbconvert_exporter": "python",
   "pygments_lexer": "ipython3",
   "version": "3.7.9"
  }
 },
 "nbformat": 4,
 "nbformat_minor": 4
}
